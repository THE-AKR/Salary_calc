{
 "cells": [
  {
   "cell_type": "code",
   "execution_count": 75,
   "id": "5c30f67e",
   "metadata": {},
   "outputs": [],
   "source": [
    "def salary_inhand():\n",
    "    x=int(input(\"Enter your Salary Per month: \"))\n",
    "    print(x)\n",
    "    print()\n",
    "    if(x>9500):\n",
    "        emi=int(input(\"Choose Emi option:\\n 1) 3 Months \\n 2) 6 Months \\n 3) 9 Months \\n type Option number(like 1 or 2 or 3)): \\n\"))\n",
    "\n",
    "        if(emi==1):  #3months\n",
    "            if(x>28333):\n",
    "                x=x-28333.33333333333\n",
    "                print(\"\\nIn-hand salary after Emi (Per Month)\\n\",x)\n",
    "                print(\"\\nIn-hand salary after Emi (Per Year)\\n\",x*12)\n",
    "                print()\n",
    "                Fare= input(\"Do you want to caclulate salary after deducting Fare charges: \\n Yes \\n No \\n (type 'Yes' or 'No' )\")\n",
    "            else:\n",
    "                print(\"You are not eligible for this emi\\n\")\n",
    "\n",
    "        elif(emi==2): #6 months\n",
    "            if(x>14166):\n",
    "                x=x-14166.66666666667\n",
    "                print(\"\\nIn-hand salary after Emi (Per Month)\\n\",x )\n",
    "                print(\"\\nIn-hand salary after Emi (Per Year)\\n\",x*12)\n",
    "                print()\n",
    "                Fare= input(\"Do you want to caclulate salary after deducting Fare charges: \\n Yes \\n No \\n (type 'Yes' or 'No' )\")\n",
    "            else:\n",
    "                print(\"You are not eligible for this emi\\n\")\n",
    "                \n",
    "\n",
    "        elif(emi==3): # 9 Months\n",
    "            if(x>9444):\n",
    "                x=x-9444.444444444444\n",
    "                print(\"\\nIn-hand salary after Emi (Per Month)\\n:\",x)\n",
    "                print(\"\\nIn-hand salary after Emi (Per Year)\\n\",x*12)\n",
    "                print()\n",
    "                Fare= input(\"Do you want to caclulate salary after deducting Fare charges: \\n Yes \\n No \\n (type 'Yes' or 'No' )\")\n",
    "            else:\n",
    "                print(\"You are not eligible for this emi\\n\")\n",
    "               \n",
    "    else:\n",
    "        print(\"\\n you haven't enough salary for Paying Emi \\n\")\n",
    "    \n",
    "    if(Fare==\"Yes\"):\n",
    "        Fare=int(input(\"\\nFare Charges (up-Down): \"))\n",
    "        Fare = 24 * Fare \n",
    "        print(\"\\nFare charges per Month (24 Working Days): \", Fare)\n",
    "        print(\"\\nFare charges per year: \", Fare*12)\n",
    "        x=x-Fare\n",
    "        print(\"\\nsalary (Per Month (24 Working Days)): \", x)\n",
    "        print(\"\\nsalary (Per Year (288 Working Days)): \", x*12)\n",
    "    else:\n",
    "        print(\"\\nBye\")\n",
    "        \n",
    "    \n"
   ]
  },
  {
   "cell_type": "code",
   "execution_count": 78,
   "id": "1be1b114",
   "metadata": {},
   "outputs": [
    {
     "name": "stdout",
     "output_type": "stream",
     "text": [
      "Enter your Salary Per month: 50000\n",
      "50000\n",
      "\n",
      "Choose Emi option:\n",
      " 1) 3 Months \n",
      " 2) 6 Months \n",
      " 3) 9 Months \n",
      " type Option number(like 1 or 2 or 3)): \n",
      "3\n",
      "\n",
      "In-hand salary after Emi (Per Month)\n",
      ": 40555.555555555555\n",
      "\n",
      "In-hand salary after Emi (Per Year)\n",
      " 486666.6666666666\n",
      "\n",
      "Do you want to caclulate salary after deducting Fare charges: \n",
      " Yes \n",
      " No \n",
      " (type 'Yes' or 'No' )Yes\n",
      "\n",
      "Fare Charges (up-Down): 200\n",
      "\n",
      "Fare charges per Month (24 Working Days):  4800\n",
      "\n",
      "Fare charges per year:  57600\n",
      "\n",
      "salary (Per Month (24 Working Days)):  35755.555555555555\n",
      "\n",
      "salary (Per Year (288 Working Days)):  429066.6666666666\n"
     ]
    }
   ],
   "source": [
    "salary_inhand()"
   ]
  },
  {
   "cell_type": "code",
   "execution_count": null,
   "id": "28ae7994",
   "metadata": {},
   "outputs": [],
   "source": []
  },
  {
   "cell_type": "code",
   "execution_count": null,
   "id": "ebe8b347",
   "metadata": {},
   "outputs": [],
   "source": []
  }
 ],
 "metadata": {
  "kernelspec": {
   "display_name": "Python 3",
   "language": "python",
   "name": "python3"
  },
  "language_info": {
   "codemirror_mode": {
    "name": "ipython",
    "version": 3
   },
   "file_extension": ".py",
   "mimetype": "text/x-python",
   "name": "python",
   "nbconvert_exporter": "python",
   "pygments_lexer": "ipython3",
   "version": "3.8.8"
  }
 },
 "nbformat": 4,
 "nbformat_minor": 5
}
